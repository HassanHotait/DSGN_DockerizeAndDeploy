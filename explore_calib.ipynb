{
 "cells": [
  {
   "cell_type": "code",
   "execution_count": 1,
   "metadata": {},
   "outputs": [],
   "source": [
    "import numpy as np"
   ]
  },
  {
   "cell_type": "code",
   "execution_count": 2,
   "metadata": {},
   "outputs": [],
   "source": [
    "def parse_calibration_file(file_path):\n",
    "    \"\"\"\n",
    "    Parse the calibration file and load the calibration matrices into numpy arrays.\n",
    "\n",
    "    Args:\n",
    "        file_path (str): The path to the calibration text file.\n",
    "\n",
    "    Returns:\n",
    "        dict: A dictionary containing the calibration matrices.\n",
    "    \"\"\"\n",
    "    calib_data = {}\n",
    "    \n",
    "    with open(file_path, 'r') as file:\n",
    "        lines = file.readlines()\n",
    "    \n",
    "    for line in lines:\n",
    "        line = line.strip()\n",
    "        if not line or line.startswith('calib_time') or line.startswith('corner_dist'):\n",
    "            continue\n",
    "        \n",
    "        key, value = line.split(':', 1)\n",
    "        key = key.strip()\n",
    "        values = np.fromstring(value, sep=' ')\n",
    "        \n",
    "        if 'S_' in key or 'S_rect_' in key:\n",
    "            calib_data[key] = values.reshape((2,))\n",
    "        elif 'K_' in key or 'R_' in key or 'R_rect_' in key:\n",
    "            calib_data[key] = values.reshape((3, 3))\n",
    "        elif 'D_' in key:\n",
    "            calib_data[key] = values\n",
    "        elif 'T_' in key:\n",
    "            calib_data[key] = values.reshape((3,))\n",
    "        elif 'P_rect_' in key:\n",
    "            calib_data[key] = values.reshape((3, 4))\n",
    "        else:\n",
    "            raise ValueError(f\"Unknown calibration key: {key}\")\n",
    "    \n",
    "    return calib_data"
   ]
  },
  {
   "cell_type": "code",
   "execution_count": 3,
   "metadata": {},
   "outputs": [],
   "source": [
    "calib_file_path = '/home/DSGN_DockerizeAndDeploy/data/DrivingStereoSet/training/calib/000587.txt'\n",
    "calib_data = parse_calibration_file(calib_file_path)\n",
    "# for key, matrix in calib_data.items():\n",
    "#     print(f\"{key}: \\n{matrix}\\n\")"
   ]
  },
  {
   "cell_type": "code",
   "execution_count": 12,
   "metadata": {},
   "outputs": [],
   "source": [
    "# K= calib_data['K_101']\n",
    "# T = np.hstack((calib_data['R_101'], calib_data['T_101'].reshape(3, 1)))\n",
    "# img_shape = calib_data['S_101']\n",
    "# img_shape_rect = calib_data['S_rect_101']\n",
    "# width_rect_ratio = img_shape_rect[0] / img_shape[0]\n",
    "# height_rect_ratio = img_shape_rect[1] / img_shape[1]\n",
    "# K_rect = K.copy()\n",
    "# K_rect[0, 0] *= width_rect_ratio\n",
    "# K_rect[0, 2] *= width_rect_ratio\n",
    "# K_rect[1, 1] *= height_rect_ratio\n",
    "# K_rect[1, 2] *= height_rect_ratio\n",
    "\n",
    "# print(f'img shape: {img_shape}')\n",
    "# print(f'img shape rect: {img_shape_rect}')\n",
    "# print(f'T: {T.shape}: \\n{T}\\n')\n",
    "# print(f'K: {K.shape}: \\n{K}\\n')\n",
    "# print(f'K_rect: {K_rect.shape}: \\n{K_rect}\\n')\n",
    "# print(f'Ground Truth: P2_rect {calib_data[\"P_rect_101\"].shape}: \\n{calib_data[\"P_rect_101\"]}\\n')"
   ]
  },
  {
   "cell_type": "code",
   "execution_count": 20,
   "metadata": {},
   "outputs": [
    {
     "ename": "ValueError",
     "evalue": "matmul: Input operand 1 has a mismatch in its core dimension 0, with gufunc signature (n?,k),(k,m?)->(n?,m?) (size 3 is different from 4)",
     "output_type": "error",
     "traceback": [
      "\u001b[0;31m---------------------------------------------------------------------------\u001b[0m",
      "\u001b[0;31mValueError\u001b[0m                                Traceback (most recent call last)",
      "Cell \u001b[0;32mIn[20], line 2\u001b[0m\n\u001b[1;32m      1\u001b[0m P2_rect \u001b[38;5;241m=\u001b[39m calib_data[\u001b[38;5;124m'\u001b[39m\u001b[38;5;124mP_rect_101\u001b[39m\u001b[38;5;124m'\u001b[39m]\n\u001b[0;32m----> 2\u001b[0m P2_test \u001b[38;5;241m=\u001b[39m  \u001b[43mP2_rect\u001b[49m\u001b[43m \u001b[49m\u001b[38;5;241;43m@\u001b[39;49m\u001b[43m \u001b[49m\u001b[43mnp\u001b[49m\u001b[38;5;241;43m.\u001b[39;49m\u001b[43mlinalg\u001b[49m\u001b[38;5;241;43m.\u001b[39;49m\u001b[43minv\u001b[49m\u001b[43m(\u001b[49m\u001b[43mcalib_data\u001b[49m\u001b[43m[\u001b[49m\u001b[38;5;124;43m'\u001b[39;49m\u001b[38;5;124;43mR_rect_101\u001b[39;49m\u001b[38;5;124;43m'\u001b[39;49m\u001b[43m]\u001b[49m\u001b[43m)\u001b[49m\u001b[38;5;241;43m.\u001b[39;49m\u001b[43mT\u001b[49m\n\u001b[1;32m      4\u001b[0m \u001b[38;5;28mprint\u001b[39m(\u001b[38;5;124mf\u001b[39m\u001b[38;5;124m'\u001b[39m\u001b[38;5;124mP2_test: \u001b[39m\u001b[38;5;132;01m{\u001b[39;00mP2_test\u001b[38;5;241m.\u001b[39mshape\u001b[38;5;132;01m}\u001b[39;00m\u001b[38;5;124m: \u001b[39m\u001b[38;5;130;01m\\n\u001b[39;00m\u001b[38;5;132;01m{\u001b[39;00mP2_test\u001b[38;5;132;01m}\u001b[39;00m\u001b[38;5;130;01m\\n\u001b[39;00m\u001b[38;5;124m'\u001b[39m)\n\u001b[1;32m      5\u001b[0m \u001b[38;5;28mprint\u001b[39m(\u001b[38;5;124mf\u001b[39m\u001b[38;5;124m'\u001b[39m\u001b[38;5;124mP2_rect: \u001b[39m\u001b[38;5;132;01m{\u001b[39;00mP2_rect\u001b[38;5;241m.\u001b[39mshape\u001b[38;5;132;01m}\u001b[39;00m\u001b[38;5;124m: \u001b[39m\u001b[38;5;130;01m\\n\u001b[39;00m\u001b[38;5;132;01m{\u001b[39;00mP2_rect\u001b[38;5;132;01m}\u001b[39;00m\u001b[38;5;130;01m\\n\u001b[39;00m\u001b[38;5;124m'\u001b[39m)\n",
      "\u001b[0;31mValueError\u001b[0m: matmul: Input operand 1 has a mismatch in its core dimension 0, with gufunc signature (n?,k),(k,m?)->(n?,m?) (size 3 is different from 4)"
     ]
    }
   ],
   "source": [
    "P2_rect = calib_data['P_rect_101']\n",
    "P2_test =  P2_rect @ np.linalg.inv(calib_data['R_rect_101'])\n",
    "\n",
    "print(f'P2_test: {P2_test.shape}: \\n{P2_test}\\n')\n",
    "print(f'P2_rect: {P2_rect.shape}: \\n{P2_rect}\\n')"
   ]
  },
  {
   "cell_type": "code",
   "execution_count": 16,
   "metadata": {},
   "outputs": [
    {
     "name": "stdout",
     "output_type": "stream",
     "text": [
      "K: (3, 3): \n",
      "[[ 2.0695e+03 -2.0000e-01  9.7410e+02]\n",
      " [ 0.0000e+00  2.0683e+03  5.9000e+02]\n",
      " [ 0.0000e+00  0.0000e+00  1.0000e+00]]\n",
      "\n",
      "T: (3, 4): \n",
      "[[1. 0. 0. 0.]\n",
      " [0. 1. 0. 0.]\n",
      " [0. 0. 1. 0.]]\n",
      "\n",
      "P2_test: (3, 4): \n",
      "[[ 2.0695e+03 -2.0000e-01  9.7410e+02  0.0000e+00]\n",
      " [ 0.0000e+00  2.0683e+03  5.9000e+02  0.0000e+00]\n",
      " [ 0.0000e+00  0.0000e+00  1.0000e+00  0.0000e+00]]\n",
      "\n"
     ]
    }
   ],
   "source": [
    "K= calib_data['K_101']\n",
    "T = np.hstack((calib_data['R_101'], calib_data['T_101'].reshape(3, 1)))\n",
    "P2_test = K @ T\n",
    "\n",
    "print(f'K: {K.shape}: \\n{K}\\n')\n",
    "print(f'T: {T.shape}: \\n{T}\\n')\n",
    "print(f'P2_test: {P2_test.shape}: \\n{P2_test}\\n')"
   ]
  }
 ],
 "metadata": {
  "kernelspec": {
   "display_name": "Python 3",
   "language": "python",
   "name": "python3"
  },
  "language_info": {
   "codemirror_mode": {
    "name": "ipython",
    "version": 3
   },
   "file_extension": ".py",
   "mimetype": "text/x-python",
   "name": "python",
   "nbconvert_exporter": "python",
   "pygments_lexer": "ipython3",
   "version": "3.8.10"
  }
 },
 "nbformat": 4,
 "nbformat_minor": 2
}
